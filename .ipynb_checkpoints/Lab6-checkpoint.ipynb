{
 "cells": [
  {
   "cell_type": "markdown",
   "metadata": {},
   "source": [
    "# Hi There!\n",
    "#### - Krishna Katakota, Nathan Poje\n",
    "#### Welcome to our program that gets a name and a number, and then spits out that number squared."
   ]
  },
  {
   "cell_type": "code",
   "execution_count": 1,
   "metadata": {},
   "outputs": [
    {
     "name": "stdin",
     "output_type": "stream",
     "text": [
      "What's your name Nathan\n",
      "Enter your favorite number: 7\n"
     ]
    }
   ],
   "source": [
    "name = str(input(\"What's your name\"))\n",
    "num = input(\"Enter your favorite number:\")\n",
    "with open('fav_nums.txt', 'a') as fav_nums:\n",
    "    print(f\"{name},{num}\", file=fav_nums)"
   ]
  }
 ],
 "metadata": {
  "kernelspec": {
   "display_name": "Python 3",
   "language": "python",
   "name": "python3"
  },
  "language_info": {
   "codemirror_mode": {
    "name": "ipython",
    "version": 3
   },
   "file_extension": ".py",
   "mimetype": "text/x-python",
   "name": "python",
   "nbconvert_exporter": "python",
   "pygments_lexer": "ipython3",
   "version": "3.8.3"
  }
 },
 "nbformat": 4,
 "nbformat_minor": 4
}
